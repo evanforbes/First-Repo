{
 "cells": [
  {
   "cell_type": "markdown",
   "id": "c05222b0-8398-45a6-8c57-24541a09d7cb",
   "metadata": {},
   "source": [
    "# Data Science Tools and Ecosystem"
   ]
  },
  {
   "cell_type": "markdown",
   "id": "9e6bcec2-96bd-4f7e-8a1e-638484e45fea",
   "metadata": {
    "tags": []
   },
   "source": [
    "In this notebook, Data Science Tools and Ecosystems are sumarized\n"
   ]
  },
  {
   "cell_type": "markdown",
   "id": "24256541-dbb7-4bf8-99fa-74a2defaf0de",
   "metadata": {},
   "source": [
    "**Objectives:**\n",
    "<ul>\n",
    "    <li> List popular languages for Data Science </li>\n",
    "    <li> List commonly used libraries </li>\n",
    "    <li> List popular dat science tools </li>\n",
    "</ul>"
   ]
  },
  {
   "cell_type": "markdown",
   "id": "713fb246-ce9b-4bc0-bac6-c93201ba44fb",
   "metadata": {
    "tags": []
   },
   "source": [
    "Some of the popular languages that Scientists use are:"
   ]
  },
  {
   "cell_type": "markdown",
   "id": "21ac3408-14aa-4302-bba7-95eeeaacf2e5",
   "metadata": {},
   "source": [
    "<ol> \n",
    "    <li>Python</li>\n",
    "    <li>Java</li>\n",
    "    <li>R</li>\n",
    "</ol>\n",
    "        "
   ]
  },
  {
   "cell_type": "markdown",
   "id": "9c335e5b-8a3d-46ba-bfe8-1f3515aad92b",
   "metadata": {},
   "source": [
    "Some of the commonly used libraries used by Data Scientists include:\n"
   ]
  },
  {
   "cell_type": "markdown",
   "id": "d939406f-a90b-4c72-9024-346a5fcd83be",
   "metadata": {},
   "source": [
    "<ol> \n",
    "    <li>NumPy</li>\n",
    "    <li>Pandas</li>\n",
    "    <li>Matplotlib</li>\n",
    "</ol>"
   ]
  },
  {
   "cell_type": "markdown",
   "id": "476646a8-91b2-4003-a52f-69ff0aff2be4",
   "metadata": {},
   "source": [
    "|Data Science Tools|\n",
    "--- |\n",
    "|Git|\n",
    "|Visual Studio Code|\n",
    "|R Studio|"
   ]
  },
  {
   "cell_type": "markdown",
   "id": "f4d1c551-453c-4a32-81d9-4b6ccd17210c",
   "metadata": {},
   "source": [
    "### Below are a few examples of evaluating arithmetic expressions in Python"
   ]
  },
  {
   "cell_type": "code",
   "execution_count": 10,
   "id": "06f4e6d5-e381-48e6-b07b-36fdf259db81",
   "metadata": {
    "tags": []
   },
   "outputs": [
    {
     "data": {
      "text/plain": [
       "17"
      ]
     },
     "execution_count": 10,
     "metadata": {},
     "output_type": "execute_result"
    }
   ],
   "source": [
    "#This a simple arithmetic expression to mutiply then add integers \n",
    "(3*4)+5"
   ]
  },
  {
   "cell_type": "code",
   "execution_count": 9,
   "id": "6873dc4d-ffec-4df4-9ec3-759c668ddbed",
   "metadata": {
    "tags": []
   },
   "outputs": [
    {
     "data": {
      "text/plain": [
       "33.333333333333336"
      ]
     },
     "execution_count": 9,
     "metadata": {},
     "output_type": "execute_result"
    }
   ],
   "source": [
    "#This will convert 200 minutes to hours by diving by 60\n",
    "200/6"
   ]
  },
  {
   "cell_type": "markdown",
   "id": "ce36a898-997f-4192-9d39-5f17b06a565c",
   "metadata": {},
   "source": [
    "## Author"
   ]
  },
  {
   "cell_type": "markdown",
   "id": "10534c1e-955d-48b1-b92a-800fdc194861",
   "metadata": {},
   "source": [
    "Evan"
   ]
  },
  {
   "cell_type": "code",
   "execution_count": null,
   "id": "2b9b5397-2c4e-4641-9947-4210be2b1f76",
   "metadata": {},
   "outputs": [],
   "source": []
  }
 ],
 "metadata": {
  "kernelspec": {
   "display_name": "Python 3 (ipykernel)",
   "language": "python",
   "name": "python3"
  },
  "language_info": {
   "codemirror_mode": {
    "name": "ipython",
    "version": 3
   },
   "file_extension": ".py",
   "mimetype": "text/x-python",
   "name": "python",
   "nbconvert_exporter": "python",
   "pygments_lexer": "ipython3",
   "version": "3.11.5"
  }
 },
 "nbformat": 4,
 "nbformat_minor": 5
}
